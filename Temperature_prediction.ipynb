{
  "nbformat": 4,
  "nbformat_minor": 0,
  "metadata": {
    "colab": {
      "name": "kis-hf-3.ipynb",
      "provenance": [],
      "collapsed_sections": []
    },
    "kernelspec": {
      "name": "python3",
      "display_name": "Python 3"
    }
  },
  "cells": [
    {
      "cell_type": "markdown",
      "metadata": {
        "id": "RF9f4M9cmfpm"
      },
      "source": [
        "# Temperature prediction\n",
        "### Tensorflow DNNRegressor is used to predict the temperature values in the future.\n",
        "##### https://github.com/tensorflow/docs/blob/r1.14/site/en/api_docs/python/tf/estimator/DNNRegressor.md"
      ]
    },
    {
      "cell_type": "code",
      "metadata": {
        "id": "5akQepzylgO3",
        "colab": {
          "base_uri": "https://localhost:8080/",
          "height": 34
        },
        "outputId": "62e02782-eb5b-4ccd-e346-8f2d982a0f14"
      },
      "source": [
        "# Import libraries\n",
        "import datetime as dt\n",
        "import pandas as pd\n",
        "import numpy as np\n",
        "# Change tensorflow version for using tensorflow.contrib\n",
        "%tensorflow_version 1.x\n",
        "import tensorflow as tf\n",
        "# Disable tensorflow warnings and logs to have a cleaner output\n",
        "tf.compat.v1.logging.set_verbosity(tf.compat.v1.logging.ERROR)"
      ],
      "execution_count": null,
      "outputs": [
        {
          "output_type": "stream",
          "text": [
            "TensorFlow 1.x selected.\n"
          ],
          "name": "stdout"
        }
      ]
    },
    {
      "cell_type": "code",
      "metadata": {
        "id": "kBB6m2katA9S",
        "colab": {
          "base_uri": "https://localhost:8080/",
          "height": 195
        },
        "outputId": "1a9d1723-9332-40bb-84f8-f9eafbc14d7e"
      },
      "source": [
        "# Read csv file with dates and temperatures\n",
        "df = pd.read_csv('data_2017_2020.csv', sep=';')\n",
        "df.head()"
      ],
      "execution_count": null,
      "outputs": [
        {
          "output_type": "execute_result",
          "data": {
            "text/html": [
              "<div>\n",
              "<style scoped>\n",
              "    .dataframe tbody tr th:only-of-type {\n",
              "        vertical-align: middle;\n",
              "    }\n",
              "\n",
              "    .dataframe tbody tr th {\n",
              "        vertical-align: top;\n",
              "    }\n",
              "\n",
              "    .dataframe thead th {\n",
              "        text-align: right;\n",
              "    }\n",
              "</style>\n",
              "<table border=\"1\" class=\"dataframe\">\n",
              "  <thead>\n",
              "    <tr style=\"text-align: right;\">\n",
              "      <th></th>\n",
              "      <th>Date</th>\n",
              "      <th>Temp</th>\n",
              "    </tr>\n",
              "  </thead>\n",
              "  <tbody>\n",
              "    <tr>\n",
              "      <th>0</th>\n",
              "      <td>2017.01.01</td>\n",
              "      <td>-6.7</td>\n",
              "    </tr>\n",
              "    <tr>\n",
              "      <th>1</th>\n",
              "      <td>2017.01.02</td>\n",
              "      <td>-5.6</td>\n",
              "    </tr>\n",
              "    <tr>\n",
              "      <th>2</th>\n",
              "      <td>2017.01.04</td>\n",
              "      <td>0.2</td>\n",
              "    </tr>\n",
              "    <tr>\n",
              "      <th>3</th>\n",
              "      <td>2017.01.06</td>\n",
              "      <td>-8.4</td>\n",
              "    </tr>\n",
              "    <tr>\n",
              "      <th>4</th>\n",
              "      <td>2017.01.09</td>\n",
              "      <td>-8.6</td>\n",
              "    </tr>\n",
              "  </tbody>\n",
              "</table>\n",
              "</div>"
            ],
            "text/plain": [
              "         Date  Temp\n",
              "0  2017.01.01  -6.7\n",
              "1  2017.01.02  -5.6\n",
              "2  2017.01.04   0.2\n",
              "3  2017.01.06  -8.4\n",
              "4  2017.01.09  -8.6"
            ]
          },
          "metadata": {
            "tags": []
          },
          "execution_count": 2
        }
      ]
    },
    {
      "cell_type": "code",
      "metadata": {
        "id": "Zgp0S3fqeJSz",
        "colab": {
          "base_uri": "https://localhost:8080/",
          "height": 195
        },
        "outputId": "1a740851-2492-4efa-ea3b-463bfd013a61"
      },
      "source": [
        "# Convert the 'Date' column to datetime type\n",
        "df['Date']=pd.to_datetime(df['Date'])\n",
        "\n",
        "# Split the 'Date' column into Year, Month and Day\n",
        "df['Year'] = pd.DatetimeIndex(df['Date']).year\n",
        "df['Month'] = pd.DatetimeIndex(df['Date']).month\n",
        "df['Day'] = pd.DatetimeIndex(df['Date']).day\n",
        "\n",
        "# Drop the 'Date' column\n",
        "df =df.drop(['Date'], axis=1)\n",
        "df.head()"
      ],
      "execution_count": null,
      "outputs": [
        {
          "output_type": "execute_result",
          "data": {
            "text/html": [
              "<div>\n",
              "<style scoped>\n",
              "    .dataframe tbody tr th:only-of-type {\n",
              "        vertical-align: middle;\n",
              "    }\n",
              "\n",
              "    .dataframe tbody tr th {\n",
              "        vertical-align: top;\n",
              "    }\n",
              "\n",
              "    .dataframe thead th {\n",
              "        text-align: right;\n",
              "    }\n",
              "</style>\n",
              "<table border=\"1\" class=\"dataframe\">\n",
              "  <thead>\n",
              "    <tr style=\"text-align: right;\">\n",
              "      <th></th>\n",
              "      <th>Temp</th>\n",
              "      <th>Year</th>\n",
              "      <th>Month</th>\n",
              "      <th>Day</th>\n",
              "    </tr>\n",
              "  </thead>\n",
              "  <tbody>\n",
              "    <tr>\n",
              "      <th>0</th>\n",
              "      <td>-6.7</td>\n",
              "      <td>2017</td>\n",
              "      <td>1</td>\n",
              "      <td>1</td>\n",
              "    </tr>\n",
              "    <tr>\n",
              "      <th>1</th>\n",
              "      <td>-5.6</td>\n",
              "      <td>2017</td>\n",
              "      <td>1</td>\n",
              "      <td>2</td>\n",
              "    </tr>\n",
              "    <tr>\n",
              "      <th>2</th>\n",
              "      <td>0.2</td>\n",
              "      <td>2017</td>\n",
              "      <td>1</td>\n",
              "      <td>4</td>\n",
              "    </tr>\n",
              "    <tr>\n",
              "      <th>3</th>\n",
              "      <td>-8.4</td>\n",
              "      <td>2017</td>\n",
              "      <td>1</td>\n",
              "      <td>6</td>\n",
              "    </tr>\n",
              "    <tr>\n",
              "      <th>4</th>\n",
              "      <td>-8.6</td>\n",
              "      <td>2017</td>\n",
              "      <td>1</td>\n",
              "      <td>9</td>\n",
              "    </tr>\n",
              "  </tbody>\n",
              "</table>\n",
              "</div>"
            ],
            "text/plain": [
              "   Temp  Year  Month  Day\n",
              "0  -6.7  2017      1    1\n",
              "1  -5.6  2017      1    2\n",
              "2   0.2  2017      1    4\n",
              "3  -8.4  2017      1    6\n",
              "4  -8.6  2017      1    9"
            ]
          },
          "metadata": {
            "tags": []
          },
          "execution_count": 3
        }
      ]
    },
    {
      "cell_type": "code",
      "metadata": {
        "id": "G6DvLXyb5C_3"
      },
      "source": [
        "# Shuffle data\n",
        "df = df.sample(frac=1).reset_index(drop=True)\n",
        "\n",
        "# Split shuffled data: 80% to train, 20% to evaluate\n",
        "splitting_index = round(len(df)*0.8)\n",
        "train_df = df.iloc[:splitting_index]\n",
        "evaluate_df = df.iloc[splitting_index:]"
      ],
      "execution_count": null,
      "outputs": []
    },
    {
      "cell_type": "code",
      "metadata": {
        "id": "QrWMJGmb7qCt",
        "colab": {
          "base_uri": "https://localhost:8080/",
          "height": 136
        },
        "outputId": "3c518c5f-0276-414d-a5cb-d6815881be77"
      },
      "source": [
        "# Add test data\n",
        "# 28th of October\n",
        "oct28 = pd.to_datetime('2020-10-28')\n",
        "# 3rd of November\n",
        "nov3 = pd.to_datetime('2020-11-03')\n",
        "# 24th of November\n",
        "nov24 = pd.to_datetime('2020-11-24')\n",
        "\n",
        "# Create dataframe from the enties\n",
        "test_df = pd.DataFrame([oct28, nov3, nov24], columns=['Date'])\n",
        "# Split the 'Date' column into Year, Month and Day\n",
        "test_df['Year'] = pd.DatetimeIndex(test_df['Date']).year\n",
        "test_df['Month'] = pd.DatetimeIndex(test_df['Date']).month\n",
        "test_df['Day'] = pd.DatetimeIndex(test_df['Date']).day\n",
        "# Drop the 'Date' column\n",
        "test_df =test_df.drop(['Date'], axis=1)\n",
        "test_df"
      ],
      "execution_count": null,
      "outputs": [
        {
          "output_type": "execute_result",
          "data": {
            "text/html": [
              "<div>\n",
              "<style scoped>\n",
              "    .dataframe tbody tr th:only-of-type {\n",
              "        vertical-align: middle;\n",
              "    }\n",
              "\n",
              "    .dataframe tbody tr th {\n",
              "        vertical-align: top;\n",
              "    }\n",
              "\n",
              "    .dataframe thead th {\n",
              "        text-align: right;\n",
              "    }\n",
              "</style>\n",
              "<table border=\"1\" class=\"dataframe\">\n",
              "  <thead>\n",
              "    <tr style=\"text-align: right;\">\n",
              "      <th></th>\n",
              "      <th>Year</th>\n",
              "      <th>Month</th>\n",
              "      <th>Day</th>\n",
              "    </tr>\n",
              "  </thead>\n",
              "  <tbody>\n",
              "    <tr>\n",
              "      <th>0</th>\n",
              "      <td>2020</td>\n",
              "      <td>10</td>\n",
              "      <td>28</td>\n",
              "    </tr>\n",
              "    <tr>\n",
              "      <th>1</th>\n",
              "      <td>2020</td>\n",
              "      <td>11</td>\n",
              "      <td>3</td>\n",
              "    </tr>\n",
              "    <tr>\n",
              "      <th>2</th>\n",
              "      <td>2020</td>\n",
              "      <td>11</td>\n",
              "      <td>24</td>\n",
              "    </tr>\n",
              "  </tbody>\n",
              "</table>\n",
              "</div>"
            ],
            "text/plain": [
              "   Year  Month  Day\n",
              "0  2020     10   28\n",
              "1  2020     11    3\n",
              "2  2020     11   24"
            ]
          },
          "metadata": {
            "tags": []
          },
          "execution_count": 5
        }
      ]
    },
    {
      "cell_type": "code",
      "metadata": {
        "id": "gbUyQU0u07vi"
      },
      "source": [
        "# Input builders\n",
        "# Define features\n",
        "features =['Year', 'Month', 'Day']\n",
        "# Convert data into tensors\n",
        "def input_fn(df, training = True):\n",
        "    # Return tf.data.Dataset of (x, y) tuple where y represents label's class index\n",
        "    cols = {f: tf.constant(df[f].values) for f in features}\n",
        "    #{'Day': <tf.Tensor 'Const_5:0' shape=(789,) dtype=int64>,\n",
        "    #'Month': <tf.Tensor 'Const_4:0' shape=(789,) dtype=int64>,\n",
        "    #'Year': <tf.Tensor 'Const_3:0' shape=(789,) dtype=int64>}\n",
        "\n",
        "    if training:\n",
        "        # Convert label column into a constant tensor\n",
        "        label = tf.constant(df['Temp'].values)\n",
        "\n",
        "        # Return the feature columns and the label during training, evaluation\n",
        "        return cols, label\n",
        "    \n",
        "    # Return the feature columns during test    \n",
        "    return cols\n",
        "\n",
        "def train_input_fn():\n",
        "    return input_fn(train_df)\n",
        "\n",
        "def eval_input_fn():\n",
        "    # Return tf.data.Dataset of (x, y) tuple where y represents label's class index\n",
        "    return input_fn(evaluate_df)\n",
        "\n",
        "def test_input_fn():\n",
        "    # Return tf.data.Dataset of (x, None) tuple\n",
        "    return input_fn(test_df, False)"
      ],
      "execution_count": null,
      "outputs": []
    },
    {
      "cell_type": "code",
      "metadata": {
        "id": "4H1kVlRl_aYy"
      },
      "source": [
        "# Create feature columns for learning\n",
        "feature_columns = []\n",
        "for feature in features:\n",
        "    feature_columns.append(tf.contrib.layers.real_valued_column(feature))\n",
        "# Hidden units per layer\n",
        "model_hidden_units = [32, 64]\n",
        "# Optimizer to train the model\n",
        "model_optimizer = tf.train.AdamOptimizer(learning_rate=0.01) \n",
        "# Model directory\n",
        "model_dir = \"tf_model_full\""
      ],
      "execution_count": null,
      "outputs": []
    },
    {
      "cell_type": "code",
      "metadata": {
        "id": "84gE7FeI3APG"
      },
      "source": [
        "# Create tensorflow DNN regressor\n",
        "regressor = tf.contrib.learn.DNNRegressor(\n",
        "    feature_columns=feature_columns, hidden_units=model_hidden_units, optimizer=model_optimizer)"
      ],
      "execution_count": null,
      "outputs": []
    },
    {
      "cell_type": "code",
      "metadata": {
        "id": "ByBFeWQG3G6B",
        "colab": {
          "base_uri": "https://localhost:8080/",
          "height": 54
        },
        "outputId": "4dccb639-5a4d-4e6e-8004-ff7e052e9b4e"
      },
      "source": [
        "# Fit the regressor\n",
        "regressor.fit(input_fn=train_input_fn, steps=10000)"
      ],
      "execution_count": null,
      "outputs": [
        {
          "output_type": "execute_result",
          "data": {
            "text/plain": [
              "DNNRegressor(params={'head': <tensorflow.contrib.learn.python.learn.estimators.head._RegressionHead object at 0x7f0411ff0ac8>, 'hidden_units': [32, 64], 'feature_columns': (_RealValuedColumn(column_name='Year', dimension=1, default_value=None, dtype=tf.float32, normalizer=None), _RealValuedColumn(column_name='Month', dimension=1, default_value=None, dtype=tf.float32, normalizer=None), _RealValuedColumn(column_name='Day', dimension=1, default_value=None, dtype=tf.float32, normalizer=None)), 'optimizer': <tensorflow.python.training.adam.AdamOptimizer object at 0x7f04045bbb38>, 'activation_fn': <function relu at 0x7f041bb72730>, 'dropout': None, 'gradient_clip_norm': None, 'embedding_lr_multipliers': None, 'input_layer_min_slice_size': None})"
            ]
          },
          "metadata": {
            "tags": []
          },
          "execution_count": 9
        }
      ]
    },
    {
      "cell_type": "code",
      "metadata": {
        "id": "pM8_-d7e7MUj",
        "colab": {
          "base_uri": "https://localhost:8080/",
          "height": 50
        },
        "outputId": "6836d1cd-3dca-4020-c998-333f4d1355ef"
      },
      "source": [
        "# Evaluate the model\n",
        "# Loss is calculated by using mean square error\n",
        "results = regressor.evaluate(input_fn=eval_input_fn, steps=1)\n",
        "for key in sorted(results):\n",
        "    print(\"%s: %s\" % (key, results[key]))"
      ],
      "execution_count": null,
      "outputs": [
        {
          "output_type": "stream",
          "text": [
            "global_step: 10000\n",
            "loss: 11.689581\n"
          ],
          "name": "stdout"
        }
      ]
    },
    {
      "cell_type": "code",
      "metadata": {
        "id": "mYOhUzJ85yNP",
        "colab": {
          "base_uri": "https://localhost:8080/",
          "height": 34
        },
        "outputId": "d6dc0dfe-17d0-46ea-f7fe-ead82d62bc45"
      },
      "source": [
        "# Predict test values\n",
        "predicted_output = regressor.predict(input_fn=test_input_fn)\n",
        "prediction = list(predicted_output)\n",
        "prediction"
      ],
      "execution_count": null,
      "outputs": [
        {
          "output_type": "execute_result",
          "data": {
            "text/plain": [
              "[10.327097, 8.600786, 5.475446]"
            ]
          },
          "metadata": {
            "tags": []
          },
          "execution_count": 11
        }
      ]
    },
    {
      "cell_type": "code",
      "metadata": {
        "id": "ovltGXrmZa-X",
        "colab": {
          "base_uri": "https://localhost:8080/",
          "height": 67
        },
        "outputId": "fc663f2a-a841-4014-e0ba-53cdee1821ed"
      },
      "source": [
        "# Print predicted values\n",
        "for i in range(len(test_df)):\n",
        "  print(\"The predicted temperature value on {0}. {1}. {2} is {3:.2f}°C.\".format(test_df.loc[i]['Day'], test_df.loc[i]['Month'], test_df.loc[i]['Year'], prediction[i]))"
      ],
      "execution_count": null,
      "outputs": [
        {
          "output_type": "stream",
          "text": [
            "The predicted temperature value on 28. 10. 2020 is 10.33°C.\n",
            "The predicted temperature value on 3. 11. 2020 is 8.60°C.\n",
            "The predicted temperature value on 24. 11. 2020 is 5.48°C.\n"
          ],
          "name": "stdout"
        }
      ]
    }
  ]
}